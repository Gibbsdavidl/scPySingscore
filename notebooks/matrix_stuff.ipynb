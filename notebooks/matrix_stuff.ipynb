{
 "cells": [
  {
   "cell_type": "code",
   "execution_count": 1,
   "id": "45e9db91-5a1f-4c19-89dd-a17cf765b484",
   "metadata": {},
   "outputs": [],
   "source": [
    "import scanpy as sc\n",
    "import pandas as pd\n",
    "import numpy as np\n",
    "import  scsingscore.scsingscore  as si\n",
    "from scipy import sparse\n",
    "import seaborn as sns"
   ]
  },
  {
   "cell_type": "code",
   "execution_count": 2,
   "id": "131c6ac7-724c-4f36-8627-4a5a3e4ed754",
   "metadata": {},
   "outputs": [
    {
     "name": "stdout",
     "output_type": "stream",
     "text": [
      "doing nn\n"
     ]
    }
   ],
   "source": [
    "n_genes = 1000\n",
    "n_cells = 10000\n",
    "\n",
    "X = sparse.random(n_cells, n_genes, density=0.1, dtype=np.float32, format='csr') * 10\n",
    "\n",
    "varnames = [f'g{i}' for i in range(n_genes)]\n",
    "obsnames = [f'cell{i}' for i in range(n_cells)]\n",
    "\n",
    "adata = sc.AnnData(X,\n",
    "                   var=pd.DataFrame(index=varnames),\n",
    "                   obs=pd.DataFrame(index=obsnames)\n",
    "                  )\n",
    "sc.pp.pca(adata)\n",
    "print('doing nn')\n",
    "sc.pp.neighbors(adata)"
   ]
  },
  {
   "cell_type": "code",
   "execution_count": 3,
   "id": "2c7cc85d-7b25-43fb-b46a-6b6ca70c6306",
   "metadata": {},
   "outputs": [],
   "source": [
    "gene_set=[f'g{_}' for _ in range(100)]"
   ]
  },
  {
   "cell_type": "code",
   "execution_count": 4,
   "id": "ca140d1e-cd3e-4cc0-bee4-03b37cb89541",
   "metadata": {},
   "outputs": [
    {
     "data": {
      "text/plain": [
       "-0.05552342394447658"
      ]
     },
     "execution_count": 4,
     "metadata": {},
     "output_type": "execute_result"
    }
   ],
   "source": [
    "si.sc_score_one(adata, 0, noise_trials=10, num_neighbors=10, samp_neighbors=5, gene_set=gene_set, compute_neighbors=False)"
   ]
  },
  {
   "cell_type": "code",
   "execution_count": 5,
   "id": "ca8e6a3a-310f-477f-b25b-d2c717c72241",
   "metadata": {},
   "outputs": [
    {
     "data": {
      "text/plain": [
       "-0.026500553287289674"
      ]
     },
     "execution_count": 5,
     "metadata": {},
     "output_type": "execute_result"
    }
   ],
   "source": [
    "si.sc_score_one(adata, 0, noise_trials=0, num_neighbors=14, samp_neighbors=14, gene_set=gene_set, compute_neighbors=False)"
   ]
  },
  {
   "cell_type": "code",
   "execution_count": 6,
   "id": "54a02cc0-57ce-4082-816d-0459a951d451",
   "metadata": {},
   "outputs": [],
   "source": [
    "from scsingscore.scsingscore_ms import *\n",
    "from scsingscore.scsingscore_ms import _score_one_by_one, _ms_sing, _score_all_at_once"
   ]
  },
  {
   "cell_type": "code",
   "execution_count": 7,
   "id": "7cfc127c-acbd-42cb-a38d-efb4ed049079",
   "metadata": {},
   "outputs": [],
   "source": [
    "smoothed_matrix = nn_smoothing(adata.X, adata, 'connectivity', samp_neighbors=14)\n",
    "# for easier handling with gene names\n",
    "smoothed_adata = sc.AnnData(smoothed_matrix, obs=adata.obs, var=adata.var)"
   ]
  },
  {
   "cell_type": "code",
   "execution_count": 9,
   "id": "30a33f01-21df-4e60-9d1b-9915d4449fbe",
   "metadata": {},
   "outputs": [
    {
     "name": "stdout",
     "output_type": "stream",
     "text": [
      "The snakeviz extension is already loaded. To reload it, use:\n",
      "  %reload_ext snakeviz\n"
     ]
    }
   ],
   "source": [
    "%load_ext snakeviz"
   ]
  },
  {
   "cell_type": "code",
   "execution_count": null,
   "id": "c748feb1-b383-424a-8ee0-a31c9693290c",
   "metadata": {
    "tags": []
   },
   "outputs": [
    {
     "name": "stderr",
     "output_type": "stream",
     "text": [
      " 54%|█████████████████████████████████████████████████████████████████████████████████████████▍                                                                            | 5391/10000 [00:12<00:10, 436.34it/s]"
     ]
    }
   ],
   "source": [
    "%%snakeviz\n",
    "scores_across_cells = _score_one_by_one(gene_set, smoothed_adata, noise_trials=0, mode='average', )\n",
    "# scores_across_cells"
   ]
  },
  {
   "cell_type": "code",
   "execution_count": 34,
   "id": "e9215186-5175-4556-b730-fe1e6120f815",
   "metadata": {},
   "outputs": [],
   "source": [
    "a = pd.DataFrame(s2)['total_score']\n",
    "b = a.to_dict()"
   ]
  },
  {
   "cell_type": "code",
   "execution_count": 35,
   "id": "e7ca17dd-2b6a-4d14-9779-f3b11c2327ed",
   "metadata": {},
   "outputs": [
    {
     "name": "stdout",
     "output_type": "stream",
     "text": [
      "1.14 µs ± 6.51 ns per loop (mean ± std. dev. of 7 runs, 1000000 loops each)\n"
     ]
    }
   ],
   "source": [
    "%timeit a[111]"
   ]
  },
  {
   "cell_type": "code",
   "execution_count": 37,
   "id": "110612ec-9927-4867-9bd8-bd7cc92925e6",
   "metadata": {},
   "outputs": [
    {
     "name": "stdout",
     "output_type": "stream",
     "text": [
      "4.61 µs ± 11.2 ns per loop (mean ± std. dev. of 7 runs, 100000 loops each)\n"
     ]
    }
   ],
   "source": [
    "%timeit a.loc[111]"
   ]
  },
  {
   "cell_type": "code",
   "execution_count": 36,
   "id": "7935452f-63d6-4cd2-92a0-96cfceae6616",
   "metadata": {},
   "outputs": [
    {
     "name": "stdout",
     "output_type": "stream",
     "text": [
      "18.9 ns ± 0.157 ns per loop (mean ± std. dev. of 7 runs, 100000000 loops each)\n"
     ]
    }
   ],
   "source": [
    "%timeit b[111]"
   ]
  },
  {
   "cell_type": "code",
   "execution_count": 10,
   "id": "4ba4a8ff-dc19-40e3-bc17-16a53dc13420",
   "metadata": {},
   "outputs": [
    {
     "name": "stderr",
     "output_type": "stream",
     "text": [
      "100%|█████████████████████████████████████████████████████████████████████████████████████████████████████████████████████████████████████████████████████████████████████| 10000/10000 [00:15<00:00, 635.72it/s]\n"
     ]
    },
    {
     "name": "stdout",
     "output_type": "stream",
     "text": [
      " \n",
      "*** Profile stats marshalled to file '/tmp/tmpecg4t360'. \n",
      "Embedding SnakeViz in this document...\n"
     ]
    },
    {
     "data": {
      "text/html": [
       "\n",
       "<iframe id='snakeviz-e0fc45a4-07d4-11ec-bff7-dc41a9a8cb27' frameborder=0 seamless width='100%' height='1000'></iframe>\n",
       "<script>document.getElementById(\"snakeviz-e0fc45a4-07d4-11ec-bff7-dc41a9a8cb27\").setAttribute(\"src\", \"http://\" + document.location.hostname + \":8080/snakeviz/%2Ftmp%2Ftmpecg4t360\")</script>\n"
      ],
      "text/plain": [
       "<IPython.core.display.HTML object>"
      ]
     },
     "metadata": {},
     "output_type": "display_data"
    }
   ],
   "source": [
    "%%snakeviz\n",
    "s2 = _score_all_at_once(gene_set, smoothed_adata, noise_trials=0, mode='average', )"
   ]
  },
  {
   "cell_type": "code",
   "execution_count": 12,
   "id": "83194f4e-607f-4707-beea-17acf2153b04",
   "metadata": {},
   "outputs": [],
   "source": [
    "s2 = pd.DataFrame(s2)"
   ]
  },
  {
   "cell_type": "code",
   "execution_count": 14,
   "id": "3b331d1d-df75-4bc2-9acf-de655fc3b697",
   "metadata": {},
   "outputs": [],
   "source": [
    "x = s2['total_score']"
   ]
  },
  {
   "cell_type": "code",
   "execution_count": 19,
   "id": "3dc818aa-cd23-4e30-b45b-a82dace5bc2b",
   "metadata": {},
   "outputs": [],
   "source": [
    "ix = np.random.choice(len(x), 100)"
   ]
  },
  {
   "cell_type": "code",
   "execution_count": 22,
   "id": "1601c3e5-6baf-41eb-b361-9a750bc594fe",
   "metadata": {},
   "outputs": [
    {
     "name": "stdout",
     "output_type": "stream",
     "text": [
      "129 µs ± 6.47 µs per loop (mean ± std. dev. of 7 runs, 10000 loops each)\n"
     ]
    }
   ],
   "source": [
    "%timeit x[ix]"
   ]
  },
  {
   "cell_type": "code",
   "execution_count": 23,
   "id": "a364c843-864c-4545-bf82-4c77bea68787",
   "metadata": {},
   "outputs": [
    {
     "name": "stdout",
     "output_type": "stream",
     "text": [
      "130 µs ± 439 ns per loop (mean ± std. dev. of 7 runs, 10000 loops each)\n"
     ]
    }
   ],
   "source": [
    "%timeit [x[j] for j in ix]"
   ]
  },
  {
   "cell_type": "code",
   "execution_count": 10,
   "id": "9c6d082f-e154-417f-b2ad-4bb391857f7e",
   "metadata": {},
   "outputs": [
    {
     "name": "stderr",
     "output_type": "stream",
     "text": [
      "100%|█████████████████████████████████████████████████████████████████████████████████████████████████████████████████████████████████████████████████████████████████████| 10000/10000 [00:57<00:00, 173.86it/s]\n"
     ]
    },
    {
     "name": "stdout",
     "output_type": "stream",
     "text": [
      " \n",
      "*** Profile stats marshalled to file '/tmp/tmpuaeekmtr'. \n",
      "Embedding SnakeViz in this document...\n"
     ]
    },
    {
     "data": {
      "text/html": [
       "\n",
       "<iframe id='snakeviz-ea8072d2-07d2-11ec-a582-dc41a9a8cb27' frameborder=0 seamless width='100%' height='1000'></iframe>\n",
       "<script>document.getElementById(\"snakeviz-ea8072d2-07d2-11ec-a582-dc41a9a8cb27\").setAttribute(\"src\", \"http://\" + document.location.hostname + \":8080/snakeviz/%2Ftmp%2Ftmpuaeekmtr\")</script>\n"
      ],
      "text/plain": [
       "<IPython.core.display.HTML object>"
      ]
     },
     "metadata": {},
     "output_type": "display_data"
    }
   ],
   "source": [
    "%%snakeviz\n",
    "s2 = _score_all_at_once(gene_set, smoothed_adata, noise_trials=0, mode='average', )\n"
   ]
  },
  {
   "cell_type": "code",
   "execution_count": 16,
   "id": "dfbdaae0-a292-4fff-91d4-9f00eb422600",
   "metadata": {},
   "outputs": [],
   "source": [
    "%matplotlib inline"
   ]
  },
  {
   "cell_type": "code",
   "execution_count": 17,
   "id": "2478008b-88c9-4365-bb4b-ee492c26a6ba",
   "metadata": {},
   "outputs": [
    {
     "data": {
      "text/plain": [
       "<matplotlib.collections.PathCollection at 0x7fe63d925be0>"
      ]
     },
     "execution_count": 17,
     "metadata": {},
     "output_type": "execute_result"
    },
    {
     "data": {
      "image/png": "[encoded data removed]",
      "text/plain": [
       "<Figure size 432x288 with 1 Axes>"
      ]
     },
     "metadata": {
      "needs_background": "light"
     },
     "output_type": "display_data"
    }
   ],
   "source": [
    "import matplotlib.pyplot as plt\n",
    "plt.scatter(scores_across_cells, pd.DataFrame(s2)['total_score'])"
   ]
  },
  {
   "cell_type": "code",
   "execution_count": 14,
   "id": "7f4ee741-423f-4509-a9b2-1a98d78a6d39",
   "metadata": {
    "tags": []
   },
   "outputs": [
    {
     "name": "stderr",
     "output_type": "stream",
     "text": [
      "100%|█████████████████████████████████████████████████████████████████████████████████████████████████████████████████████████████████████████████████████████████████████| 10000/10000 [00:18<00:00, 543.99it/s]\n"
     ]
    }
   ],
   "source": [
    "q = sc_score(adata,  noise_trials=0, samp_neighbors=0, gene_set=gene_set)"
   ]
  },
  {
   "cell_type": "code",
   "execution_count": 17,
   "id": "1c14bfd6-1b54-4729-963d-d597d5350a15",
   "metadata": {},
   "outputs": [],
   "source": [
    "%matplotlib inline"
   ]
  },
  {
   "cell_type": "code",
   "execution_count": 18,
   "id": "6818c1f8-305f-4aa4-9524-a7257a4294d0",
   "metadata": {},
   "outputs": [
    {
     "data": {
      "text/plain": [
       "<seaborn.axisgrid.FacetGrid at 0x7fd801e82d00>"
      ]
     },
     "execution_count": 18,
     "metadata": {},
     "output_type": "execute_result"
    },
    {
     "data": {
      "image/png": "[encoded data removed]",
      "text/plain": [
       "<Figure size 360x360 with 1 Axes>"
      ]
     },
     "metadata": {
      "needs_background": "light"
     },
     "output_type": "display_data"
    }
   ],
   "source": [
    "sns.displot(q)"
   ]
  },
  {
   "cell_type": "code",
   "execution_count": 78,
   "id": "a91c2efb-0715-45c6-b4c3-a623f33f4ae2",
   "metadata": {},
   "outputs": [],
   "source": [
    "full_matrix = nn_smoothing(adata.X, adata, 'connectivity', samp_neighbors=0)"
   ]
  },
  {
   "cell_type": "code",
   "execution_count": 80,
   "id": "108e7001-c6ef-4539-9056-adc5cd93cdcb",
   "metadata": {},
   "outputs": [],
   "source": [
    "S = get_smoothing_matrix(adata, mode='connectivity')\n",
    "# sns.displot(S.A.flatten())"
   ]
  },
  {
   "cell_type": "code",
   "execution_count": 91,
   "id": "25a72649-d268-48a0-be43-5954b8184cfc",
   "metadata": {},
   "outputs": [],
   "source": [
    "cell_ix = 5"
   ]
  },
  {
   "cell_type": "code",
   "execution_count": 121,
   "id": "1b155ff2-5b5e-4f22-8c64-41dc9413f6b1",
   "metadata": {},
   "outputs": [],
   "source": [
    "gene_mat = full_matrix[cell_ix]\n",
    "# then we subset it to only the genes with counts\n",
    "_, gdx, _ = sparse.find(gene_mat)\n",
    "df = pd.DataFrame(gene_mat[:, gdx].A.flatten(), index=adata.var.index[gdx])\n",
    "df.columns = ['gene_counts']\n"
   ]
  },
  {
   "cell_type": "code",
   "execution_count": 124,
   "id": "a3055f5b-9781-4fcd-bab0-8c95aa1f3b11",
   "metadata": {},
   "outputs": [],
   "source": [
    "s = si.score(up_gene=gene_set, sample=df, norm_method='standard', full_data=False) # standard workin gbetter here than theoretical"
   ]
  },
  {
   "cell_type": "code",
   "execution_count": 125,
   "id": "b4397c6a-85a9-42ec-ace7-d1b7a98a958f",
   "metadata": {},
   "outputs": [
    {
     "data": {
      "text/html": [
       "<div>\n",
       "<style scoped>\n",
       "    .dataframe tbody tr th:only-of-type {\n",
       "        vertical-align: middle;\n",
       "    }\n",
       "\n",
       "    .dataframe tbody tr th {\n",
       "        vertical-align: top;\n",
       "    }\n",
       "\n",
       "    .dataframe thead th {\n",
       "        text-align: right;\n",
       "    }\n",
       "</style>\n",
       "<table border=\"1\" class=\"dataframe\">\n",
       "  <thead>\n",
       "    <tr style=\"text-align: right;\">\n",
       "      <th></th>\n",
       "      <th>total_score</th>\n",
       "    </tr>\n",
       "  </thead>\n",
       "  <tbody>\n",
       "    <tr>\n",
       "      <th>gene_counts</th>\n",
       "      <td>NaN</td>\n",
       "    </tr>\n",
       "  </tbody>\n",
       "</table>\n",
       "</div>"
      ],
      "text/plain": [
       "             total_score\n",
       "gene_counts          NaN"
      ]
     },
     "execution_count": 125,
     "metadata": {},
     "output_type": "execute_result"
    }
   ],
   "source": [
    "s"
   ]
  },
  {
   "cell_type": "code",
   "execution_count": 118,
   "id": "71b44818-e264-4beb-84b6-48579bb0306e",
   "metadata": {},
   "outputs": [
    {
     "data": {
      "text/plain": [
       "(756, 1)"
      ]
     },
     "execution_count": 118,
     "metadata": {},
     "output_type": "execute_result"
    }
   ],
   "source": [
    "sample.shape"
   ]
  },
  {
   "cell_type": "code",
   "execution_count": 104,
   "id": "cb336c0c-7059-44a7-8229-00a316cbe9e0",
   "metadata": {},
   "outputs": [],
   "source": [
    "sample =df \n",
    "up_gene = gene_set\n",
    "sig_len_up = len(up_gene)\n"
   ]
  },
  {
   "cell_type": "code",
   "execution_count": 105,
   "id": "249afd63-353d-40f0-a9f2-34296b6199f1",
   "metadata": {},
   "outputs": [],
   "source": [
    "up_sort = sample['gene_counts'].rank(method='min', ascending=True)"
   ]
  },
  {
   "cell_type": "code",
   "execution_count": 106,
   "id": "82587392-9bc3-45ac-b523-8660f3c71974",
   "metadata": {},
   "outputs": [],
   "source": [
    "            for j in up_gene:\n",
    "                if j in up_sort.index:\n",
    "                    su.append(up_sort[j])\n",
    "                else:\n",
    "                    sig_len_up = sig_len_up -1\n"
   ]
  },
  {
   "cell_type": "code",
   "execution_count": null,
   "id": "74f4e486-518a-4c04-9561-816623535ac9",
   "metadata": {},
   "outputs": [],
   "source": []
  }
 ],
 "metadata": {
  "kernelspec": {
   "display_name": "Python 3",
   "language": "python",
   "name": "python3"
  },
  "language_info": {
   "codemirror_mode": {
    "name": "ipython",
    "version": 3
   },
   "file_extension": ".py",
   "mimetype": "text/x-python",
   "name": "python",
   "nbconvert_exporter": "python",
   "pygments_lexer": "ipython3",
   "version": "3.8.8"
  }
 },
 "nbformat": 4,
 "nbformat_minor": 5
}
